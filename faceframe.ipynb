{
 "cells": [
  {
   "cell_type": "code",
   "execution_count": 9,
   "metadata": {},
   "outputs": [
    {
     "name": "stdout",
     "output_type": "stream",
     "text": [
      "Requirement already satisfied: cmake in c:\\users\\poorvi gupta\\appdata\\local\\programs\\python\\python310\\lib\\site-packages (3.26.3)\n"
     ]
    },
    {
     "name": "stderr",
     "output_type": "stream",
     "text": [
      "WARNING: You are using pip version 22.0.4; however, version 23.1.2 is available.\n",
      "You should consider upgrading via the 'c:\\Users\\Poorvi Gupta\\AppData\\Local\\Programs\\Python\\Python310\\python.exe -m pip install --upgrade pip' command.\n",
      "WARNING: Retrying (Retry(total=4, connect=None, read=None, redirect=None, status=None)) after connection broken by 'NewConnectionError('<pip._vendor.urllib3.connection.HTTPSConnection object at 0x000001E7C4EB4400>: Failed to establish a new connection: [Errno 11001] getaddrinfo failed')': /simple/face-recognition/\n",
      "WARNING: Retrying (Retry(total=3, connect=None, read=None, redirect=None, status=None)) after connection broken by 'NewConnectionError('<pip._vendor.urllib3.connection.HTTPSConnection object at 0x000001E7C4EB5180>: Failed to establish a new connection: [Errno 11001] getaddrinfo failed')': /simple/face-recognition/\n",
      "WARNING: Retrying (Retry(total=2, connect=None, read=None, redirect=None, status=None)) after connection broken by 'NewConnectionError('<pip._vendor.urllib3.connection.HTTPSConnection object at 0x000001E7C4EB5420>: Failed to establish a new connection: [Errno 11001] getaddrinfo failed')': /simple/face-recognition/\n",
      "WARNING: Retrying (Retry(total=1, connect=None, read=None, redirect=None, status=None)) after connection broken by 'NewConnectionError('<pip._vendor.urllib3.connection.HTTPSConnection object at 0x000001E7C4EB55D0>: Failed to establish a new connection: [Errno 11001] getaddrinfo failed')': /simple/face-recognition/\n",
      "WARNING: Retrying (Retry(total=0, connect=None, read=None, redirect=None, status=None)) after connection broken by 'NewConnectionError('<pip._vendor.urllib3.connection.HTTPSConnection object at 0x000001E7C4EB5780>: Failed to establish a new connection: [Errno 11001] getaddrinfo failed')': /simple/face-recognition/\n",
      "ERROR: Could not find a version that satisfies the requirement face_recognition (from versions: none)\n",
      "ERROR: No matching distribution found for face_recognition\n",
      "WARNING: You are using pip version 22.0.4; however, version 23.1.2 is available.\n",
      "You should consider upgrading via the 'c:\\Users\\Poorvi Gupta\\AppData\\Local\\Programs\\Python\\Python310\\python.exe -m pip install --upgrade pip' command.\n"
     ]
    }
   ],
   "source": [
    "!python -m pip install cmake\n",
    "!python -m pip install face_recognition"
   ]
  },
  {
   "cell_type": "code",
   "execution_count": 11,
   "metadata": {},
   "outputs": [
    {
     "ename": "ModuleNotFoundError",
     "evalue": "No module named 'face_recognition'",
     "output_type": "error",
     "traceback": [
      "\u001b[1;31m---------------------------------------------------------------------------\u001b[0m",
      "\u001b[1;31mModuleNotFoundError\u001b[0m                       Traceback (most recent call last)",
      "Cell \u001b[1;32mIn[11], line 2\u001b[0m\n\u001b[0;32m      1\u001b[0m \u001b[39mimport\u001b[39;00m \u001b[39mcv2\u001b[39;00m\n\u001b[1;32m----> 2\u001b[0m \u001b[39mimport\u001b[39;00m \u001b[39mface_recognition\u001b[39;00m \u001b[39mas\u001b[39;00m \u001b[39mfr\u001b[39;00m\n\u001b[0;32m      3\u001b[0m \u001b[39mimport\u001b[39;00m \u001b[39mpandas\u001b[39;00m \u001b[39mas\u001b[39;00m \u001b[39mpd\u001b[39;00m\n\u001b[0;32m      4\u001b[0m \u001b[39mimport\u001b[39;00m \u001b[39mnumpy\u001b[39;00m \u001b[39mas\u001b[39;00m \u001b[39mnp\u001b[39;00m\n",
      "\u001b[1;31mModuleNotFoundError\u001b[0m: No module named 'face_recognition'"
     ]
    }
   ],
   "source": [
    "import cv2\n",
    "import face_recognition as fr\n",
    "import pandas as pd\n",
    "import numpy as np\n",
    "vid = cv2.VideoCapture(0)\n",
    "fd = cv2.CascadeClassifier(\n",
    "    cv2.data.haarcascades+ 'haarcascade_frontalface_default.xml'\n",
    "    )\n",
    "try:\n",
    "    face_db = pd.read_csv('faces_data.tsv',index_col=0,sep='\\t') #read file\n",
    "    data = {\n",
    "        'name':face_db['name'].values.tolist(), #convert it back to dictionary\n",
    "        'encoding':face_db['encoding'].values.tolist(),\n",
    "    }\n",
    "except Exception as e:\n",
    "    print(e)\n",
    "    data = {'name':[],'encoding':[]}\n",
    "\n",
    "\n",
    "while True:\n",
    "    flag, img=vid.read()\n",
    "    if flag:\n",
    "        faces= fd.detectMultiScale(\n",
    "            cv2.cvtColor(img,cv2.COLOR_BGR2GRAY),\n",
    "            scaleFactor=1.1,\n",
    "            minNeighbors=5,\n",
    "            minSize=(50,50)\n",
    "        )\n",
    "        if len(faces)==1:\n",
    "            x,y,w,h =faces[0]\n",
    "            img_face = img[y:y+h, x:x+w, :].copy()   #crop the image\n",
    "            img_face=  cv2.resize(img_face, (400,400),\n",
    "                                  interpolation= cv2.INTER_CUBIC)  #size remains same of cropped face\n",
    "            \n",
    "            face_encoding = fr.face_encodings(img_face)  #extract features\n",
    "\n",
    "            if len(face_encoding)==1:\n",
    "                # print('recognition will start')\n",
    "                for ind,enc_value in enumerate(data['encoding']):\n",
    "                    matched = fr.compare_faces(\n",
    "                        face_encoding,np.array(eval(enc_value))\n",
    "                    )[0]\n",
    "                    if matched ==True:\n",
    "                        cv2.putText(\n",
    "                            img,data['name'][ind],\n",
    "                            (50,50),cv2.FONT_HERSHEY_SIMPLEX,1.5,(0,0,255),8)\n",
    "                        break\n",
    "                        \n",
    "\n",
    "\n",
    "            \n",
    "        cv2.imshow('preview', img)\n",
    "        key = cv2.waitKey(1)\n",
    "        if key==ord('q'):\n",
    "            break\n",
    "cv2.destroyAllWindows()\n",
    "vid.release()"
   ]
  }
 ],
 "metadata": {
  "kernelspec": {
   "display_name": "Python 3",
   "language": "python",
   "name": "python3"
  },
  "language_info": {
   "codemirror_mode": {
    "name": "ipython",
    "version": 3
   },
   "file_extension": ".py",
   "mimetype": "text/x-python",
   "name": "python",
   "nbconvert_exporter": "python",
   "pygments_lexer": "ipython3",
   "version": "3.10.4"
  },
  "orig_nbformat": 4
 },
 "nbformat": 4,
 "nbformat_minor": 2
}
